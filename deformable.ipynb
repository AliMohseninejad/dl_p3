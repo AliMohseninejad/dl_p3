{
 "cells": [
  {
   "cell_type": "markdown",
   "metadata": {},
   "source": [
    "# Theoretic Questions"
   ]
  },
  {
   "cell_type": "markdown",
   "metadata": {},
   "source": [
    "## A"
   ]
  },
  {
   "cell_type": "markdown",
   "metadata": {},
   "source": [
    "In normal CNNs, the grid sampling is fixed.\n",
    "The receptive field of a convolutional layer is defined by a regular grid of points."
   ]
  },
  {
   "cell_type": "markdown",
   "metadata": {},
   "source": [
    "Deformable convolutional layers allows the sampling grid to be adjusted according to the learned offsets.\n",
    "They have an additional offset (Which is laearnable) for each sampling point in the kernel.\n",
    "This allows the layer to handle spatial transformations, such as object deformations, rotations, scalings, ...."
   ]
  },
  {
   "cell_type": "markdown",
   "metadata": {},
   "source": [
    "## B"
   ]
  },
  {
   "cell_type": "markdown",
   "metadata": {},
   "source": [
    "It is done with the help of learnable offsets in the layer. during the training phase, these parameters are learned and adjusted so that the transformations in the input are taken care of."
   ]
  },
  {
   "cell_type": "markdown",
   "metadata": {},
   "source": [
    "## C"
   ]
  },
  {
   "cell_type": "markdown",
   "metadata": {},
   "source": [
    "Normal convolutional layers have fixed receptive fields which means they can't adapt to variations in object sizes, shapes, or rotations. So, they might fail to capture the entire object when it's deformed or rotated significantly."
   ]
  },
  {
   "cell_type": "markdown",
   "metadata": {},
   "source": [
    "## D"
   ]
  },
  {
   "cell_type": "markdown",
   "metadata": {},
   "source": [
    "Deformable convolution layers include additional convolutional layers dedicated to predicting the offsets. These modules take the feature maps from the previous layers as input."
   ]
  }
 ],
 "metadata": {
  "language_info": {
   "name": "python"
  }
 },
 "nbformat": 4,
 "nbformat_minor": 2
}
